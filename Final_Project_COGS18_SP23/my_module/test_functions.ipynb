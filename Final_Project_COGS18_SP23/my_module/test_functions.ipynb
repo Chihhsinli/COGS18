{
 "cells": [
  {
   "cell_type": "code",
   "execution_count": null,
   "id": "061219e0",
   "metadata": {},
   "outputs": [],
   "source": [
    "\"\"\"Test for my functions.\n",
    "\n",
    "Note: because these are 'empty' functions (return None), here we just test\n",
    "  that the functions execute, and return None, as expected.\n",
    "\"\"\""
   ]
  },
  {
   "cell_type": "code",
   "execution_count": null,
   "id": "2bf37fc6",
   "metadata": {},
   "outputs": [],
   "source": [
    "from functions import generate_addition_subtraction_question\n",
    "from functions import generate_multiplication_division_question\n",
    "from functions import generate_question\n",
    "from functions import fun"
   ]
  },
  {
   "cell_type": "code",
   "execution_count": null,
   "id": "2151079e",
   "metadata": {},
   "outputs": [],
   "source": [
    "assert callable(generate_addition_subtraction_question)"
   ]
  },
  {
   "cell_type": "code",
   "execution_count": null,
   "id": "9c68f879",
   "metadata": {},
   "outputs": [],
   "source": [
    "assert callable(fun)"
   ]
  },
  {
   "cell_type": "code",
   "execution_count": null,
   "id": "5d639d2a",
   "metadata": {},
   "outputs": [],
   "source": [
    "assert callable(generate_question)"
   ]
  },
  {
   "cell_type": "code",
   "execution_count": null,
   "id": "d7785b51",
   "metadata": {},
   "outputs": [],
   "source": [
    "assert callable(generate_multiplication_division_question)"
   ]
  }
 ],
 "metadata": {
  "jupytext": {
   "cell_metadata_filter": "-all",
   "main_language": "python",
   "notebook_metadata_filter": "-all",
   "text_representation": {
    "extension": ".py",
    "format_name": "light"
   }
  }
 },
 "nbformat": 4,
 "nbformat_minor": 5
}
